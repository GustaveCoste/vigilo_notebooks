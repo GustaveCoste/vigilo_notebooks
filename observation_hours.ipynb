{
 "cells": [
  {
   "cell_type": "markdown",
   "metadata": {},
   "source": [
    "## Analyse des données Vigilo pour identifier les heures où ont lieu les observations"
   ]
  },
  {
   "cell_type": "code",
   "execution_count": null,
   "metadata": {},
   "outputs": [],
   "source": [
    "%matplotlib notebook\n",
    "\n",
    "import requests\n",
    "import pandas as pd\n",
    "import matplotlib.pyplot as plt\n",
    "import seaborn as sns\n",
    "\n",
    "# Getting data\n",
    "resp = requests.get('https://vigilo.jesuisundesdeux.org/get_issues.php')\n",
    "df = pd.DataFrame(resp.json())\n",
    "\n",
    "print(df)"
   ]
  },
  {
   "cell_type": "code",
   "execution_count": null,
   "metadata": {},
   "outputs": [],
   "source": [
    "# Separating week days and weekends\n",
    "df.time = pd.to_datetime(df.time, unit='s')\n",
    "df['day_type'] = 'week'\n",
    "df.loc[df.time.apply(lambda x: x.weekday() > 4), 'day_type'] = 'weekend'"
   ]
  },
  {
   "cell_type": "code",
   "execution_count": null,
   "metadata": {},
   "outputs": [],
   "source": [
    "fig, (ax1, ax2) = plt.subplots(2, sharex=True)\n",
    "\n",
    "sns.kdeplot(df[(df.categorie == '2') & (df.day_type == 'week')].time.apply(lambda x: x.hour),\n",
    "            shade=True, legend='GCUM', label='GCUM', ax=ax1)\n",
    "sns.kdeplot(df[(df.categorie != '2') & (df.day_type == 'week')].time.apply(lambda x: x.hour),\n",
    "            shade=True, label='Autres', ax=ax1)\n",
    "# sns.kdeplot(df[df.day_type == 'week'].time.apply(lambda x: x.hour),\n",
    "#             shade=True, label='Total', ax=ax1)\n",
    "sns.kdeplot(df[(df.categorie == '2') & (df.day_type == 'weekend')].time.apply(lambda x: x.hour),\n",
    "            shade=True, legend='GCUM', label='GCUM', ax=ax2)\n",
    "sns.kdeplot(df[(df.categorie != '2') & (df.day_type == 'weekend')].time.apply(lambda x: x.hour),\n",
    "            shade=True, label='Autres', ax=ax2)\n",
    "# sns.kdeplot(df[df.day_type == 'weekend'].time.apply(lambda x: x.hour),\n",
    "#             shade=True, label='Total', ax=ax2)\n",
    "\n",
    "ax1.set_title('Semaine')\n",
    "ax2.set_title('Weekend')\n",
    "\n",
    "ax1.set_xbound(0, 24)\n",
    "\n",
    "ax1.get_yaxis().set_visible(False)\n",
    "ax2.get_yaxis().set_visible(False)\n",
    "\n",
    "plt.tight_layout()\n",
    "\n",
    "plt.show()"
   ]
  }
 ],
 "metadata": {
  "kernelspec": {
   "display_name": "Python 3",
   "language": "python",
   "name": "python3"
  },
  "language_info": {
   "codemirror_mode": {
    "name": "ipython",
    "version": 3
   },
   "file_extension": ".py",
   "mimetype": "text/x-python",
   "name": "python",
   "nbconvert_exporter": "python",
   "pygments_lexer": "ipython3",
   "version": "3.7.0"
  }
 },
 "nbformat": 4,
 "nbformat_minor": 2
}

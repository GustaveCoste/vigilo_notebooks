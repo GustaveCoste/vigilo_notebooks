{
 "cells": [
  {
   "cell_type": "code",
   "execution_count": null,
   "metadata": {},
   "outputs": [],
   "source": [
    "%matplotlib notebook\n",
    "\n",
    "import datetime\n",
    "import locale\n",
    "\n",
    "import requests\n",
    "import pandas as pd\n",
    "import matplotlib.pyplot as plt\n",
    "\n",
    "# Setting french locale\n",
    "locale.setlocale(locale.LC_ALL, 'fr_FR')"
   ]
  },
  {
   "cell_type": "code",
   "execution_count": null,
   "metadata": {},
   "outputs": [],
   "source": [
    "# Getting data\n",
    "resp = requests.get('https://vigilo.jesuisundesdeux.org/get_issues.php')\n",
    "df = pd.DataFrame(resp.json())\n",
    "df.time = pd.to_datetime(df.time, unit='s')\n",
    "\n",
    "# Filtering out data before 2019-01-01\n",
    "df = df[df.time.apply(lambda x: x.year) > 2018]"
   ]
  },
  {
   "cell_type": "code",
   "execution_count": null,
   "metadata": {},
   "outputs": [],
   "source": [
    "fig, ax = plt.subplots()\n",
    "nbins = max(df.time.apply(lambda x: x.timetuple().tm_yday))\n",
    "plt.hist(df.time.apply(lambda x: x.timetuple().tm_yday), cumulative=True, bins=nbins, label='Autres', color=\"#56a7e1\")\n",
    "plt.hist(df[df.categorie == '2'].time.apply(lambda x: x.timetuple().tm_yday), cumulative=True, bins=nbins, label='GCUM / Stationnement gênant'\n",
    "         color=\"#ff973d\")\n",
    "\n",
    "plt.gca().legend()\n",
    "ax.set_facecolor('#f4f0ee')\n",
    "plt.grid(axis='y', color='#e4dbd5', alpha=0.5)\n",
    "\n",
    "ticks = [datetime.datetime(year=2019, month=x, day=1).timetuple().tm_yday for x in range(1, 13)]\n",
    "ticks_labels = [datetime.datetime(year=2019, month=x, day=1).strftime('%b') for x in range(1, 13)]\n",
    "plt.xticks(ticks, ticks_labels)\n",
    "\n",
    "ax.set_xlim(0, nbins)\n",
    "\n",
    "plt.title(\"Évolution du nombre d'observations de Vǐgǐlo\\ndepuis le 1er janvier\")\n",
    "\n",
    "plt.show()"
   ]
  },
  {
   "cell_type": "code",
   "execution_count": null,
   "metadata": {},
   "outputs": [],
   "source": []
  }
 ],
 "metadata": {
  "kernelspec": {
   "display_name": "Python 3",
   "language": "python",
   "name": "python3"
  },
  "language_info": {
   "codemirror_mode": {
    "name": "ipython",
    "version": 3
   },
   "file_extension": ".py",
   "mimetype": "text/x-python",
   "name": "python",
   "nbconvert_exporter": "python",
   "pygments_lexer": "ipython3",
   "version": "3.7.0"
  }
 },
 "nbformat": 4,
 "nbformat_minor": 2
}

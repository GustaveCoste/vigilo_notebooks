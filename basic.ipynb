{
 "cells": [
  {
   "cell_type": "code",
   "execution_count": 1,
   "metadata": {},
   "outputs": [],
   "source": [
    "import requests\n",
    "import ipyleaflet\n",
    "\n",
    "response = requests.get(\"https://vigilo.jesuisundesdeux.org/get_issues.php\")\n",
    "issues = response.json()"
   ]
  },
  {
   "cell_type": "code",
   "execution_count": 2,
   "metadata": {},
   "outputs": [
    {
     "data": {
      "text/plain": [
       "{'token': 'K04X8OOZ',\n",
       " 'coordinates_lat': '43.60912577551626',\n",
       " 'coordinates_lon': '3.8665290176868434',\n",
       " 'address': 'Avenue de Lodève, Montpellier',\n",
       " 'comment': 'Stationnement habituel devant le snack... ',\n",
       " 'time': '1554551040',\n",
       " 'group': 0,\n",
       " 'categorie': '2',\n",
       " 'approved': '1'}"
      ]
     },
     "execution_count": 2,
     "metadata": {},
     "output_type": "execute_result"
    }
   ],
   "source": [
    "issues[0]"
   ]
  },
  {
   "cell_type": "code",
   "execution_count": 3,
   "metadata": {},
   "outputs": [
    {
     "data": {
      "text/plain": [
       "(43.61450643637678, 3.8716218587211073)"
      ]
     },
     "execution_count": 3,
     "metadata": {},
     "output_type": "execute_result"
    }
   ],
   "source": [
    "import numpy as np\n",
    "coordinates = [(float(issue['coordinates_lat']), float(issue['coordinates_lon'])) for issue in issues]\n",
    "coordinates_array = np.array(coordinates)\n",
    "center = (np.mean(coordinates_array[:, 0]), np.mean(coordinates_array[:, 1]))\n",
    "center"
   ]
  },
  {
   "cell_type": "code",
   "execution_count": 4,
   "metadata": {},
   "outputs": [
    {
     "data": {
      "application/vnd.jupyter.widget-view+json": {
       "model_id": "486dc9fcf76549a5940bcc629751f87c",
       "version_major": 2,
       "version_minor": 0
      },
      "text/plain": [
       "Map(basemap={'url': 'https://{s}.tile.openstreetmap.org/{z}/{x}/{y}.png', 'max_zoom': 19, 'attribution': 'Map …"
      ]
     },
     "metadata": {},
     "output_type": "display_data"
    }
   ],
   "source": [
    "from ipyleaflet import Marker, Map\n",
    "\n",
    "m = Map(center=center, zoom=13)\n",
    "for coordinate in coordinates:\n",
    "    marker = Marker(location=coordinate, draggable=False)\n",
    "    m.add_layer(marker)\n",
    "\n",
    "m"
   ]
  },
  {
   "cell_type": "code",
   "execution_count": null,
   "metadata": {},
   "outputs": [],
   "source": []
  },
  {
   "cell_type": "code",
   "execution_count": null,
   "metadata": {},
   "outputs": [],
   "source": []
  },
  {
   "cell_type": "code",
   "execution_count": null,
   "metadata": {},
   "outputs": [],
   "source": []
  }
 ],
 "metadata": {
  "kernelspec": {
   "display_name": "Python 3",
   "language": "python",
   "name": "python3"
  },
  "language_info": {
   "codemirror_mode": {
    "name": "ipython",
    "version": 3
   },
   "file_extension": ".py",
   "mimetype": "text/x-python",
   "name": "python",
   "nbconvert_exporter": "python",
   "pygments_lexer": "ipython3",
   "version": "3.7.1"
  }
 },
 "nbformat": 4,
 "nbformat_minor": 2
}

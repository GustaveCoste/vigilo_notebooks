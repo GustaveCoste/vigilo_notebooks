{
 "cells": [
  {
   "cell_type": "code",
   "execution_count": 1,
   "metadata": {},
   "outputs": [],
   "source": [
    "# You need requests and ipyleaflet to run this notebook\n",
    "# !pip install ipyleaflet requests"
   ]
  },
  {
   "cell_type": "code",
   "execution_count": 2,
   "metadata": {},
   "outputs": [],
   "source": [
    "import requests\n",
    "import ipyleaflet\n",
    "\n",
    "response = requests.get(\"https://vigilo.jesuisundesdeux.org/get_issues.php\")\n",
    "issues = response.json()"
   ]
  },
  {
   "cell_type": "code",
   "execution_count": 3,
   "metadata": {},
   "outputs": [
    {
     "data": {
      "text/plain": [
       "{'token': '3PC6VC0V',\n",
       " 'coordinates_lat': '43.60767769046528',\n",
       " 'coordinates_lon': '3.8671982288360596',\n",
       " 'address': 'Rue du Faubourg Figuerolles, Montpellier',\n",
       " 'comment': 'on est pas bien la ?',\n",
       " 'time': '1554205106',\n",
       " 'group': 0,\n",
       " 'categorie': '2',\n",
       " 'approved': '1'}"
      ]
     },
     "execution_count": 3,
     "metadata": {},
     "output_type": "execute_result"
    }
   ],
   "source": [
    "issues[0]"
   ]
  },
  {
   "cell_type": "code",
   "execution_count": 4,
   "metadata": {},
   "outputs": [
    {
     "data": {
      "text/plain": [
       "(43.6147334576483, 3.8704671985470203)"
      ]
     },
     "execution_count": 4,
     "metadata": {},
     "output_type": "execute_result"
    }
   ],
   "source": [
    "import numpy as np\n",
    "coordinates = [(float(issue['coordinates_lat']), float(issue['coordinates_lon'])) for issue in issues]\n",
    "coordinates_array = np.array(coordinates)\n",
    "center = (np.mean(coordinates_array[:, 0]), np.mean(coordinates_array[:, 1]))\n",
    "center"
   ]
  },
  {
   "cell_type": "code",
   "execution_count": 6,
   "metadata": {},
   "outputs": [
    {
     "data": {
      "application/vnd.jupyter.widget-view+json": {
       "model_id": "05878f48373e4e27ac4445bbfffc060e",
       "version_major": 2,
       "version_minor": 0
      },
      "text/plain": [
       "Map(basemap={'url': 'https://{s}.tile.openstreetmap.org/{z}/{x}/{y}.png', 'max_zoom': 19, 'attribution': 'Map …"
      ]
     },
     "metadata": {},
     "output_type": "display_data"
    }
   ],
   "source": [
    "from ipyleaflet import Marker, Map\n",
    "\n",
    "m = Map(center=center, zoom=13)\n",
    "for coordinate in coordinates:\n",
    "    marker = Marker(location=coordinate, draggable=False)\n",
    "    m.add_layer(marker)\n",
    "\n",
    "m"
   ]
  }
 ],
 "metadata": {
  "kernelspec": {
   "display_name": "Python 3",
   "language": "python",
   "name": "python3"
  },
  "language_info": {
   "codemirror_mode": {
    "name": "ipython",
    "version": 3
   },
   "file_extension": ".py",
   "mimetype": "text/x-python",
   "name": "python",
   "nbconvert_exporter": "python",
   "pygments_lexer": "ipython3",
   "version": "3.6.7"
  }
 },
 "nbformat": 4,
 "nbformat_minor": 2
}

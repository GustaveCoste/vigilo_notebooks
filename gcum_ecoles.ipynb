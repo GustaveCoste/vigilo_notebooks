{
 "cells": [
  {
   "cell_type": "code",
   "execution_count": null,
   "metadata": {},
   "outputs": [],
   "source": [
    "%matplotlib notebook\n",
    "import textwrap\n",
    "import datetime\n",
    "\n",
    "import requests\n",
    "import overpy\n",
    "import geopy.distance\n",
    "import pandas as pd\n",
    "import matplotlib.pyplot as plt\n",
    "import seaborn as sns"
   ]
  },
  {
   "cell_type": "code",
   "execution_count": null,
   "metadata": {},
   "outputs": [],
   "source": [
    "BUFFER_SIZE = 150  # Max distance between schools and GCUM in m"
   ]
  },
  {
   "cell_type": "code",
   "execution_count": null,
   "metadata": {},
   "outputs": [],
   "source": [
    "# Getting GCUM data\n",
    "resp = requests.get('https://vigilo.jesuisundesdeux.org/get_issues.php?c=2')\n",
    "gcum = resp.json()"
   ]
  },
  {
   "cell_type": "code",
   "execution_count": null,
   "metadata": {},
   "outputs": [],
   "source": [
    "# Getting schools\n",
    "api = overpy.Overpass()\n",
    "bbox = '43.517, 3.777, 43.685, 4.035'\n",
    "query = \"\"\"(\n",
    "  node[\"school:FR\"=\"maternelle\"]({bbox});\n",
    "  way[\"school:FR\"=\"maternelle\"]({bbox});\n",
    "  node[\"school:FR\"=\"élémentaire\"]({bbox});\n",
    "  way[\"school:FR\"=\"élémentaire\"]({bbox});\n",
    "  node[\"school:FR\"=\"primaire\"]({bbox});\n",
    "  way[\"school:FR\"=\"primaire\"]({bbox});\n",
    "  );\n",
    "  out center;\"\"\".format(bbox=bbox)\n",
    "\n",
    "result = api.query(query)\n",
    "\n",
    "schools = [{'name': x.tags['name'], 'lat': x.lat, 'lon': x.lon} for x in result.nodes] + \\\n",
    "          [{'name': x.tags['name'], 'lat': x.center_lat, 'lon': x.center_lon} for x in result.ways]"
   ]
  },
  {
   "cell_type": "code",
   "execution_count": null,
   "metadata": {},
   "outputs": [],
   "source": [
    "# Filtering gcum on day and time\n",
    "week_gcum = [x for x in gcum\n",
    "             if datetime.datetime.fromtimestamp(int(x['time'])).weekday() < 4\n",
    "             and (datetime.time(hour=7, minute=30) < datetime.datetime.fromtimestamp(int(x['time'])).time() < datetime.time(hour=9)\n",
    "                  or datetime.time(hour=16) < datetime.datetime.fromtimestamp(int(x['time'])).time() < datetime.time(hour=17, minute=30))]"
   ]
  },
  {
   "cell_type": "code",
   "execution_count": null,
   "metadata": {},
   "outputs": [],
   "source": [
    "# Counting GCUM within X meters of each school\n",
    "for school in schools:\n",
    "    school['gcum'] = [x for x in week_gcum if geopy.distance.great_circle((x['coordinates_lat'], x['coordinates_lon']),\n",
    "                                                                     (school['lat'],\n",
    "                                                                      school['lon'])).meters < BUFFER_SIZE]\n",
    "    school['nb_gcum'] = len(school['gcum'])\n",
    "\n",
    "schools.sort(key=lambda x: len(x['gcum']), reverse=True)\n",
    "\n",
    "print('\\n'.join(['{} - {}'.format(x['nb_gcum'], x['name']) for x in schools if x['nb_gcum'] != 0]))"
   ]
  },
  {
   "cell_type": "code",
   "execution_count": null,
   "metadata": {},
   "outputs": [],
   "source": [
    "sns.set_color_codes(\"pastel\")\n",
    "sns.barplot(x=[x['nb_gcum'] for x in schools[:10]],\n",
    "            y=['\\n'.join(textwrap.wrap(x['name'], 30)) for x in schools[:10]],\n",
    "            color=\"b\")\n",
    "\n",
    "plt.title(\"Classement des écoles de Montpellier\\npar nombre de GCUM à proximité\\n(moins de {} m)\".format(BUFFER_SIZE))\n",
    "\n",
    "plt.tight_layout()\n",
    "plt.show()"
   ]
  },
  {
   "cell_type": "code",
   "execution_count": null,
   "metadata": {},
   "outputs": [],
   "source": [
    "df = pd.DataFrame(gcum)\n",
    "df.time = pd.to_datetime(df.time, unit='s')\n",
    "df['hour'] = 'Journée et weekend'\n",
    "df.loc[df.token.apply(lambda x: x in [y['token'] for y in week_gcum]), 'hour'] = \"Horaires d'école\"\n",
    "\n",
    "# Separating obs near schools\n",
    "df[\"school\"] = 'Non'\n",
    "\n",
    "for school in schools:\n",
    "    df.loc[df.apply(lambda row: geopy.distance.great_circle((row['coordinates_lat'], row['coordinates_lon']),\n",
    "                                                            (school['lat'],\n",
    "                                                             school['lon'])).meters < BUFFER_SIZE,\n",
    "                    axis=1), \"school\"] = 'Oui'"
   ]
  },
  {
   "cell_type": "code",
   "execution_count": null,
   "metadata": {},
   "outputs": [],
   "source": [
    "fig, ax = plt.subplots(figsize=(5, 5))\n",
    "\n",
    "size = 0.3\n",
    "cmap = plt.get_cmap(\"tab20c\")\n",
    "outer_colors = cmap([2, 5])\n",
    "inner_colors = cmap([1, 4])\n",
    "\n",
    "ax.pie(x=(df[df.hour == 'Journée et weekend'][df.school == 'Non'].token.count(),\n",
    "          df[df.hour == 'Journée et weekend'][df.school == 'Oui'].token.count()),\n",
    "       radius=1,\n",
    "       wedgeprops=dict(width=size, edgecolor='w'),\n",
    "       startangle=90,\n",
    "       colors=outer_colors)\n",
    "ax.pie(x=(df[df.hour == \"Horaires d'école\"][df.school == 'Non'].token.count(),\n",
    "          df[df.hour == \"Horaires d'école\"][df.school == 'Oui'].token.count()),\n",
    "       radius=1 - size,\n",
    "       wedgeprops=dict(width=size, edgecolor='w'),\n",
    "       startangle=90,\n",
    "       colors=inner_colors)\n",
    "\n",
    "plt.title(\"Localisation des GCUM / stationnements gênants\\nselon l'heure de la journée\")\n",
    "\n",
    "ax.annotate(\"Horaires d'école\",\n",
    "            xy=(0.5, 0.31),\n",
    "            xycoords='axes fraction',\n",
    "            fontweight='bold',\n",
    "            verticalalignment='top',\n",
    "            horizontalalignment='center')\n",
    "\n",
    "ax.annotate(\"Journée et weekend\",\n",
    "            xy=(0.5, 0.19),\n",
    "            xycoords='axes fraction',\n",
    "            fontweight='bold',\n",
    "            verticalalignment='top',\n",
    "            horizontalalignment='center')\n",
    "\n",
    "legend = ax.legend(title=\"Proximité\\nd'une école\", labels=(\"Non\", \"Oui\"), handlelength=0, handletextpad=-0.5)\n",
    "\n",
    "for n, text in enumerate(legend.texts):\n",
    "    print(n, text)\n",
    "    text.set_color(inner_colors[n])\n",
    "    text.set_fontweight('bold')\n",
    "\n",
    "plt.tight_layout()\n",
    "\n",
    "plt.show()"
   ]
  },
  {
   "cell_type": "code",
   "execution_count": null,
   "metadata": {},
   "outputs": [],
   "source": []
  }
 ],
 "metadata": {
  "kernelspec": {
   "display_name": "Python 3",
   "language": "python",
   "name": "python3"
  },
  "language_info": {
   "codemirror_mode": {
    "name": "ipython",
    "version": 3
   },
   "file_extension": ".py",
   "mimetype": "text/x-python",
   "name": "python",
   "nbconvert_exporter": "python",
   "pygments_lexer": "ipython3",
   "version": "3.7.0"
  }
 },
 "nbformat": 4,
 "nbformat_minor": 2
}
